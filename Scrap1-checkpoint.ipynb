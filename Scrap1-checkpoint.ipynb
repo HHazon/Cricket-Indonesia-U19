{
 "cells": [
  {
   "cell_type": "code",
   "execution_count": 4,
   "id": "902f47ec",
   "metadata": {},
   "outputs": [],
   "source": [
    "import pandas as pd\n",
    "import requests\n",
    "from bs4 import BeautifulSoup as bs\n",
    "import csv"
   ]
  },
  {
   "cell_type": "code",
   "execution_count": 13,
   "id": "c3281038",
   "metadata": {},
   "outputs": [],
   "source": [
    "rawdata = requests.get(\"https://stats.espncricinfo.com/ci/engine/records/averages/batting_bowling_by_team.html?id=15002;team=7007;type=tournament\")\n",
    "rawdatatext = rawdata.text\n",
    "sper_pot = bs(rawdatatext)"
   ]
  },
  {
   "cell_type": "code",
   "execution_count": 15,
   "id": "fe822790",
   "metadata": {},
   "outputs": [],
   "source": [
    "tablefsper_pot = sper_pot.find_all('table')\n",
    "Batting = []\n",
    "for table in tablefsper_pot:\n",
    "    if str(table.caption.string).strip() == 'Indonesia Women Under-19s batting averages':\n",
    "        Batting = table\n",
    "        break"
   ]
  },
  {
   "cell_type": "code",
   "execution_count": 31,
   "id": "92cbce83",
   "metadata": {},
   "outputs": [],
   "source": [
    "columns = [header.text.strip() for header in Batting.find_all('th')]\n",
    "rows = []\n",
    "full_rows = Batting.find_all('tr')\n",
    "for row in full_rows:\n",
    "    value = row.find_all('td')\n",
    "    clean_value =[ele.text.strip() for ele in value]\n",
    "    rows.append(clean_value)"
   ]
  },
  {
   "cell_type": "code",
   "execution_count": 33,
   "id": "28c3d53d",
   "metadata": {},
   "outputs": [],
   "source": [
    "with open('Batting_data2.csv','w',newline=\"\") as output:\n",
    "    salin = csv.writer(output)\n",
    "    salin.writerow(columns)\n",
    "    salin.writerows(rows)"
   ]
  },
  {
   "cell_type": "code",
   "execution_count": 16,
   "id": "6e66b599",
   "metadata": {},
   "outputs": [],
   "source": [
    "Bowling = []\n",
    "for table in tablefsper_pot:\n",
    "    if str(table.caption.string).strip() == 'Indonesia Women Under-19s bowling averages':\n",
    "        Bowling = table\n",
    "        break"
   ]
  },
  {
   "cell_type": "code",
   "execution_count": 23,
   "id": "7480a168",
   "metadata": {},
   "outputs": [],
   "source": [
    "columns = [header.text.strip() for header in Bowling.find_all('th')]\n",
    "rows = []\n",
    "full_rows = Bowling.find_all('tr')\n",
    "for row in full_rows:\n",
    "    value = row.find_all('td')\n",
    "    clean_value =[ele.text.strip() for ele in value]\n",
    "    if len(clean_value) == '-' :\n",
    "        continue\n",
    "    rows.append(clean_value)"
   ]
  },
  {
   "cell_type": "code",
   "execution_count": 36,
   "id": "0b50393a",
   "metadata": {},
   "outputs": [],
   "source": [
    "with open('Bowling_data2.csv','w',newline=\"\") as output:\n",
    "    salin = csv.writer(output)\n",
    "    salin.writerow(columns)\n",
    "    salin.writerows(rows)"
   ]
  },
  {
   "cell_type": "code",
   "execution_count": null,
   "id": "a58fa246",
   "metadata": {},
   "outputs": [],
   "source": []
  }
 ],
 "metadata": {
  "kernelspec": {
   "display_name": "Python 3 (ipykernel)",
   "language": "python",
   "name": "python3"
  },
  "language_info": {
   "codemirror_mode": {
    "name": "ipython",
    "version": 3
   },
   "file_extension": ".py",
   "mimetype": "text/x-python",
   "name": "python",
   "nbconvert_exporter": "python",
   "pygments_lexer": "ipython3",
   "version": "3.9.12"
  }
 },
 "nbformat": 4,
 "nbformat_minor": 5
}
